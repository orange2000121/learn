{
 "cells": [
  {
   "cell_type": "code",
   "execution_count": 6,
   "metadata": {},
   "outputs": [],
   "source": [
    "import pandas as pd\n",
    "import numpy as np\n",
    "from keras.models import Sequential\n",
    "from keras.layers import Dense\n",
    "from sklearn.model_selection import train_test_split\n",
    "#資料預處理\n",
    "df=pd.read_csv(\"boston_housing.csv\")\n",
    "df_x=df.drop('medv',axis=1)\n",
    "df_y=df['medv']\n",
    "X_train, X_test, Y_train, Y_test = train_test_split(df_x, df_y, test_size=0.3)\n",
    "#定義模型\n",
    "def build_model():\n",
    "    model = Sequential()\n",
    "    model.add(Dense(32, input_shape=(X_train.shape[1],), activation=\"relu\"))\n",
    "    model.add(Dense(1))\n",
    "    model.compile(loss=\"mse\", optimizer=\"adam\", metrics=[\"mae\"])\n",
    "    model.summary() #顯示摘要資訊\n",
    "    return model"
   ]
  },
  {
   "cell_type": "code",
   "execution_count": 7,
   "metadata": {},
   "outputs": [
    {
     "name": "stdout",
     "output_type": "stream",
     "text": [
      "Processing Fold #0\n",
      "Processing Fold #1\n",
      "Processing Fold #2\n",
      "Processing Fold #3\n",
      "Model: \"sequential_2\"\n",
      "_________________________________________________________________\n",
      "Layer (type)                 Output Shape              Param #   \n",
      "=================================================================\n",
      "dense_4 (Dense)              (None, 32)                448       \n",
      "_________________________________________________________________\n",
      "dense_5 (Dense)              (None, 1)                 33        \n",
      "=================================================================\n",
      "Total params: 481\n",
      "Trainable params: 481\n",
      "Non-trainable params: 0\n",
      "_________________________________________________________________\n",
      "3/3 [==============================] - 0s 997us/step - loss: 51.8976 - mae: 5.0778\n"
     ]
    }
   ],
   "source": [
    "k = 4\n",
    "nb_val_samples = len(X_train) // k\n",
    "nb_epochs = 80\n",
    "mse_scores = []\n",
    "mae_scores = []\n",
    "for i in range(k):\n",
    "    print(\"Processing Fold #\" + str(i))\n",
    "    X_val = X_train[i*nb_val_samples: (i+1)*nb_val_samples]\n",
    "    Y_val = Y_train[i*nb_val_samples: (i+1)*nb_val_samples]\n",
    "    X_train_p = np.concatenate([X_train[:i*nb_val_samples], X_train[(i+1)*nb_val_samples:]], axis=0)\n",
    "    Y_train_p = np.concatenate([Y_train[:i*nb_val_samples], Y_train[(i+1)*nb_val_samples:]], axis=0)\n",
    "model = build_model()\n",
    "model.fit(X_train_p, Y_train_p, epochs=nb_epochs, batch_size=16, verbose=0)\n",
    "mse, mae = model.evaluate(X_val, Y_val)\n",
    "mse_scores.append(mse)\n",
    "mae_scores.append(mae)\n"
   ]
  },
  {
   "cell_type": "code",
   "execution_count": null,
   "metadata": {},
   "outputs": [],
   "source": []
  }
 ],
 "metadata": {
  "kernelspec": {
   "display_name": "Python 3",
   "language": "python",
   "name": "python3"
  },
  "language_info": {
   "codemirror_mode": {
    "name": "ipython",
    "version": 3
   },
   "file_extension": ".py",
   "mimetype": "text/x-python",
   "name": "python",
   "nbconvert_exporter": "python",
   "pygments_lexer": "ipython3",
   "version": "3.6.8"
  }
 },
 "nbformat": 4,
 "nbformat_minor": 4
}
