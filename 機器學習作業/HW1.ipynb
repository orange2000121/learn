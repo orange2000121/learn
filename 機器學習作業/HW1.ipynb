{
 "cells": [
  {
   "cell_type": "code",
   "execution_count": 14,
   "metadata": {},
   "outputs": [
    {
     "name": "stdout",
     "output_type": "stream",
     "text": [
      "速度:5\n",
      "加速度5\n",
      "62.5\n"
     ]
    }
   ],
   "source": [
    "#第一題\n",
    "v=eval(input('速度:'))#輸入速度、加速度\n",
    "a=eval(input('加速度'))\n",
    "length=(v*v)/2*a#計算最短長度\n",
    "print(length)"
   ]
  },
  {
   "cell_type": "code",
   "execution_count": 18,
   "metadata": {},
   "outputs": [
    {
     "name": "stdout",
     "output_type": "stream",
     "text": [
      "輸入整數15\n",
      "3\n",
      "5\n",
      "7\n",
      "11\n",
      "13\n"
     ]
    }
   ],
   "source": [
    "#第二題\n",
    "def 是質數(n):\n",
    "    for i in range(2,n):\n",
    "        if(n%i==0):     #如果整除不是質數\n",
    "            return False\n",
    "    return True\n",
    "num=int(input('輸入整數'))\n",
    "for i in range(3,num+1):\n",
    "    if(是質數(i)):\n",
    "        print(i)"
   ]
  },
  {
   "cell_type": "code",
   "execution_count": 26,
   "metadata": {},
   "outputs": [
    {
     "name": "stdout",
     "output_type": "stream",
     "text": [
      "a:5\n",
      "b:10\n",
      "c:15\n",
      "5\n"
     ]
    }
   ],
   "source": [
    "#第三題\n",
    "def gcd(a,b):\n",
    "    if(a<b):#如果a<b,a和b交換\n",
    "        t=a\n",
    "        a=b\n",
    "        b=t\n",
    "    if(b==0):\n",
    "        return a\n",
    "    else:\n",
    "        return gcd(b,a%b)#輾轉相除法，地回函數\n",
    "a=int(input('a:'))\n",
    "b=int(input('b:'))\n",
    "c=int(input('c:'))\n",
    "m=gcd(a,b)\n",
    "print(gcd(m,c))"
   ]
  },
  {
   "cell_type": "code",
   "execution_count": 31,
   "metadata": {},
   "outputs": [
    {
     "name": "stdout",
     "output_type": "stream",
     "text": [
      "輸入正整數:12345\n",
      "54321"
     ]
    }
   ],
   "source": [
    "#第四題\n",
    "num=input('輸入正整數:')\n",
    "for i in range(1,len(num)+1):#取得字串長度\n",
    "    print(num[-i],end='')#從最尾端輸出到第一個"
   ]
  },
  {
   "cell_type": "code",
   "execution_count": 44,
   "metadata": {},
   "outputs": [
    {
     "name": "stdout",
     "output_type": "stream",
     "text": [
      "Your equation has no root.\n"
     ]
    }
   ],
   "source": [
    "#第五題\n",
    "def compute(a,b,c):\n",
    "    D=pow(b,2)-4*a*c#判斷是否有根\n",
    "    if(D<0):\n",
    "        return 'Your equation has no root.'\n",
    "    else:\n",
    "        root.append((-b+pow(D,0.5))/(2*a))#公式解求根\n",
    "        root.append((-b-pow(D,0.5))/(2*a))\n",
    "        return root\n",
    "root=[]\n",
    "print(compute(1,5,16))"
   ]
  },
  {
   "cell_type": "code",
   "execution_count": 16,
   "metadata": {},
   "outputs": [
    {
     "name": "stdout",
     "output_type": "stream",
     "text": [
      "輸入整數100\n",
      "47 15 58 8 94 94 71 2 17 27 \n",
      "40 91 75 38 12 85 22 30 73 47 \n",
      "70 91 6 33 62 52 43 87 77 37 \n",
      "86 2 93 58 100 15 65 41 22 82 \n",
      "74 28 78 95 4 11 19 80 29 10 \n",
      "21 32 77 46 15 90 82 10 29 63 \n",
      "91 3 90 26 98 5 34 40 63 99 \n",
      "15 89 57 9 72 43 66 5 36 6 \n",
      "19 64 91 58 62 47 12 76 36 35 \n",
      "29 68 32 61 88 64 22 13 50 20 \n"
     ]
    }
   ],
   "source": [
    "#第六題\n",
    "import random\n",
    "def randNum():\n",
    "    return random.randint(1,100)#回傳一個1到100的隨機數\n",
    "n=int(input('輸入整數'))\n",
    "for i in range(1,n+1):\n",
    "    print(randNum(),end=' ')\n",
    "    if(i%10==0):#每十個數跳行\n",
    "        print()"
   ]
  },
  {
   "cell_type": "code",
   "execution_count": null,
   "metadata": {},
   "outputs": [],
   "source": []
  }
 ],
 "metadata": {
  "kernelspec": {
   "display_name": "Python 3",
   "language": "python",
   "name": "python3"
  },
  "language_info": {
   "codemirror_mode": {
    "name": "ipython",
    "version": 3
   },
   "file_extension": ".py",
   "mimetype": "text/x-python",
   "name": "python",
   "nbconvert_exporter": "python",
   "pygments_lexer": "ipython3",
   "version": "3.8.3"
  }
 },
 "nbformat": 4,
 "nbformat_minor": 2
}
